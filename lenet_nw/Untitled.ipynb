{
 "cells": [
  {
   "cell_type": "code",
   "execution_count": 2,
   "metadata": {
    "collapsed": true
   },
   "outputs": [],
   "source": [
    "import tensorflow as tf\n",
    "from tensorflow.contrib.layers import flatten\n"
   ]
  },
  {
   "cell_type": "code",
   "execution_count": 8,
   "metadata": {
    "collapsed": false
   },
   "outputs": [
    {
     "name": "stdout",
     "output_type": "stream",
     "text": [
      "0\n"
     ]
    }
   ],
   "source": [
    "tf.reset_default_graph()\n",
    "del sess\n",
    "print(len(tf.get_collection(tf.GraphKeys.VARIABLES)))"
   ]
  },
  {
   "cell_type": "code",
   "execution_count": 9,
   "metadata": {
    "collapsed": false
   },
   "outputs": [],
   "source": [
    "### Define your architecture here.\n",
    "### Feel free to use as many code cells as needed.\n",
    "\n",
    "#Since the task is a classification task, we can develop on the LeNet model\n",
    "\n",
    "\n",
    "def TrafficSignClassifier(x, keep_prob, W1, W2, W3, b1, b2, b3, fc_w1, fc_w2, fc_w3, fc_b1, fc_b2, fc_b3):    \n",
    "    # Arguments used for tf.truncated_normal, randomly defines variables for the weights and biases for each layer\n",
    "    mu = 0\n",
    "    sigma = 0.1\n",
    "    \n",
    "    # Layer 1: Convolutional. Input = 32x32x3. Output = 32x32x3. (Color Space Transformer)\n",
    "    conv1_W = tf.Variable(W1, trainable=False, name=\"W1\",\\\n",
    "                          collections=[tf.GraphKeys.WEIGHTS,tf.GraphKeys.VARIABLES])\n",
    "    conv1_b = tf.Variable(b1, trainable=False, name=\"b1\")\n",
    "    conv1 = tf.nn.conv2d(x, conv1_W, strides=[1,1,1,1], padding=\"VALID\") + conv1_b\n",
    "    \n",
    "    # Activation.\n",
    "    conv1 = tf.nn.relu(conv1)\n",
    "    \n",
    "    # Layer 2: Convolutional. Input = 32x32x3. Output = 30x30x18.\n",
    "    conv2_W = tf.Variable(W2, trainable=False, name=\"W2\", \\\n",
    "                          collections=[tf.GraphKeys.WEIGHTS,tf.GraphKeys.VARIABLES])\n",
    "    conv2_b = tf.Variable(b2, trainable=False, name=\"b2\")\n",
    "    conv2 = tf.nn.conv2d(conv1, conv2_W, strides=[1,1,1,1], padding=\"VALID\") + conv2_b\n",
    "    \n",
    "    # Activation.\n",
    "    conv2 = tf.nn.relu(conv2)\n",
    "\n",
    "    # Pooling. Input = 30x30x18. Output = 15x15x18.\n",
    "    conv2 = tf.nn.max_pool(conv2, ksize=[1, 2, 2, 1], strides=[1, 2, 2, 1], padding=\"VALID\")\n",
    "\n",
    "    # Layer 2: Convolutional. Output = 11x11x36.\n",
    "    conv3_W = tf.Variable(W3, trainable=False, name=\"W3\", \\\n",
    "                          collections=[tf.GraphKeys.WEIGHTS,tf.GraphKeys.VARIABLES])\n",
    "    conv3_b = tf.Variable(b3, trainable=False, name=\"b3\")\n",
    "    conv3 = tf.nn.conv2d(conv2, conv3_W, strides=[1,1,1,1], padding=\"VALID\") + conv3_b\n",
    "    \n",
    "    # Activation.\n",
    "    conv3 = tf.nn.relu(conv3)\n",
    "\n",
    "    # TODO: Pooling. Input = 11x11x36. Output = 5x5x36.\n",
    "    conv3 = tf.nn.max_pool(conv3, ksize=[1, 2, 2, 1], strides=[1, 2, 2, 1], padding=\"VALID\")\n",
    "\n",
    "    # TODO: Flatten. Input = 5x5x36. Output = 900.\n",
    "    fc0 = flatten(conv3)\n",
    "    \n",
    "    # TODO: Layer 3: Fully Connected. Input = 900. Output = 120.\n",
    "    fc1_W = tf.Variable(fc_w1, trainable=False, name=\"fc_w1\",\\\n",
    "                        collections=[tf.GraphKeys.WEIGHTS,tf.GraphKeys.VARIABLES])\n",
    "    fc1_b = tf.Variable(fc_b1, trainable=False, name=\"fc_b1\")\n",
    "    fc1 = tf.matmul(fc0, fc1_W) + fc1_b\n",
    "    \n",
    "    # TODO: Activation.\n",
    "    fc1 = tf.nn.relu(fc1)\n",
    "    fc1 = tf.nn.dropout(fc1, keep_prob=keep_prob)\n",
    "\n",
    "    # TODO: Layer 4: Fully Connected. Input = 120. Output = 84.\n",
    "    fc2_W = tf.Variable(fc_w2, trainable=False, name=\"fc_w2\",\\\n",
    "                        collections=[tf.GraphKeys.WEIGHTS,tf.GraphKeys.VARIABLES])\n",
    "    fc2_b = tf.Variable(fc_b2, trainable=False, name=\"fc_b2\")\n",
    "    fc2 = tf.matmul(fc1, fc2_W) + fc2_b\n",
    "    \n",
    "    # TODO: Activation.\n",
    "    fc2 = tf.nn.relu(fc2)\n",
    "    fc2 = tf.nn.dropout(fc2, keep_prob=keep_prob)\n",
    "\n",
    "    # TODO: Layer 5: Fully Connected. Input = 84. Output = 43.\n",
    "    fc3_W = tf.Variable(fc_w3, trainable=False, name=\"fc_w3\",\\\n",
    "                        collections=[tf.GraphKeys.WEIGHTS,tf.GraphKeys.VARIABLES])\n",
    "    fc3_b = tf.Variable(fc_b3, trainable=False, name=\"fc_b3\")\n",
    "    logits = tf.matmul(fc2, fc3_W) + fc3_b\n",
    "\n",
    "    return logits"
   ]
  },
  {
   "cell_type": "code",
   "execution_count": 10,
   "metadata": {
    "collapsed": false
   },
   "outputs": [
    {
     "name": "stdout",
     "output_type": "stream",
     "text": [
      "0\n",
      "12\n"
     ]
    }
   ],
   "source": [
    "n_classes = 43\n",
    "x = tf.placeholder(tf.float32, (None, 32, 32, 3))\n",
    "y = tf.placeholder(tf.int32, (None))\n",
    "keep_prob = tf.placeholder(tf.float32, (None))\n",
    "one_hot_y = tf.one_hot(y, n_classes)\n",
    "\n",
    "print(len(tf.get_collection(tf.GraphKeys.VARIABLES)))\n",
    "\n",
    "logits = TrafficSignClassifier(x, keep_prob, W1, W2, W3, b1, b2, b3, fc_w1, fc_w2, fc_w3, fc_b1, fc_b2, fc_b3)\n",
    "probability = tf.nn.softmax(logits)\n",
    "cross_entropy = tf.nn.softmax_cross_entropy_with_logits(logits, one_hot_y)\n",
    "regularization = tf.contrib.layers.apply_regularization(tf.contrib.layers.l2_regularizer(0.01))\n",
    "loss_operation = tf.reduce_mean(cross_entropy + regularization)\n",
    "#optimizer = tf.train.AdamOptimizer(learning_rate = 0.003)\n",
    "#training_operation = optimizer.minimize(loss_operation)\n",
    "\n",
    "correct_prediction = tf.equal(tf.argmax(logits, 1), tf.argmax(one_hot_y, 1))\n",
    "accuracy_operation = tf.reduce_mean(tf.cast(correct_prediction, tf.float32))\n",
    "\n",
    "topk_accuracy = tf.nn.in_top_k(logits, y, 5)\n",
    "\n",
    "print(len(tf.get_collection(tf.GraphKeys.VARIABLES)))\n",
    "\n",
    "def evaluate(X_data, y_data):\n",
    "    num_examples = len(X_data)\n",
    "    total_accuracy = 0\n",
    "    sess = tf.get_default_session()\n",
    "    for offset in range(0, num_examples, BATCH_SIZE):\n",
    "        batch_x, batch_y = X_data[offset:offset+BATCH_SIZE], y_data[offset:offset+BATCH_SIZE]\n",
    "        accuracy = sess.run(accuracy_operation, feed_dict={x: batch_x, y: batch_y, keep_prob: 1.0})\n",
    "        total_accuracy += (accuracy * len(batch_x))\n",
    "    return total_accuracy / num_examples\n",
    "\n",
    "#calculate softmax prob\n",
    "def calculateProb(X_data):\n",
    "    probabilities = []\n",
    "    num_examples = len(X_data)\n",
    "    sess = tf.get_default_session()\n",
    "    for offset in range(0, num_examples, BATCH_SIZE):\n",
    "        batch_x = X_data[offset:offset+BATCH_SIZE]\n",
    "        probabilities.append(sess.run(prob, feed_dict={x: batch_x}))\n",
    "    return probabilities"
   ]
  },
  {
   "cell_type": "code",
   "execution_count": 11,
   "metadata": {
    "collapsed": false
   },
   "outputs": [
    {
     "name": "stdout",
     "output_type": "stream",
     "text": [
      "Model saved\n"
     ]
    }
   ],
   "source": [
    "newsaver = tf.train.Saver()\n",
    "with tf.Session() as sess:\n",
    "        sess.run(tf.initialize_all_variables())\n",
    "        newsaver.save(sess, 'TrafficSignClassifier3')\n",
    "        print(\"Model saved\")"
   ]
  },
  {
   "cell_type": "code",
   "execution_count": 12,
   "metadata": {
    "collapsed": false
   },
   "outputs": [
    {
     "name": "stdout",
     "output_type": "stream",
     "text": [
      "12\n"
     ]
    }
   ],
   "source": [
    "print(len(tf.get_collection(tf.GraphKeys.VARIABLES)))"
   ]
  },
  {
   "cell_type": "code",
   "execution_count": 5,
   "metadata": {
    "collapsed": false
   },
   "outputs": [],
   "source": [
    "W1, W2, W3, b1, b2, b3, fc_w1, fc_w2, fc_w3, fc_b1, fc_b2, fc_b3 = None, None, None, None,None, None,None, None,None, None,None, None \n",
    "saver = tf.train.import_meta_graph('./TrafficSignClassifier2.meta')\n",
    "with tf.Session() as sess:\n",
    "    #sess.run(tf.initialize_all_variables())\n",
    "    saver.restore(sess, \"./TrafficSignClassifier2\")\n",
    "    #l = sess.run(logits, feed_dict={x:X_test[0:2], y:y_test[0:2],  keep_prob:1.0})\n",
    "    V = tf.all_variables()\n",
    "    W1 = sess.run([v for v in V if v.name == \"W1_1:0\"][0])\n",
    "    W2 = sess.run([v for v in V if v.name == \"W2_1:0\"][0])\n",
    "    W3 = sess.run([v for v in V if v.name == \"W3_1:0\"][0])\n",
    "    b1 = sess.run([v for v in V if v.name == \"b1_1:0\"][0])\n",
    "    b2 = sess.run([v for v in V if v.name == \"b2_1:0\"][0])\n",
    "    b3 = sess.run([v for v in V if v.name == \"b3_1:0\"][0])\n",
    "    fc_w1 = sess.run([v for v in V if v.name == \"fc_w1_1:0\"][0])\n",
    "    fc_w2 = sess.run([v for v in V if v.name == \"fc_w2_1:0\"][0])\n",
    "    fc_w3 = sess.run([v for v in V if v.name == \"fc_w3_1:0\"][0])\n",
    "    fc_b1 = sess.run([v for v in V if v.name == \"fc_b1_1:0\"][0])\n",
    "    fc_b2 = sess.run([v for v in V if v.name == \"fc_b2_1:0\"][0])\n",
    "    fc_b3 = sess.run([v for v in V if v.name == \"fc_b3_1:0\"][0])\n",
    "   \n",
    "    #print(tf.get_variable('W1'))\n",
    "    #print(sess.run(V[6]))\n",
    "    #sess.run(w)\n",
    "    #test_accuracy = evaluate(X_test[0:5], y_test[0:5])\n",
    "    #print(\"Test Accuracy = {:.3f}\".format(test_accuracy))\n",
    "    #all_vars = tf.get_collection()\n",
    "    #print([all_vars])\n",
    "    "
   ]
  },
  {
   "cell_type": "code",
   "execution_count": 6,
   "metadata": {
    "collapsed": false
   },
   "outputs": [
    {
     "name": "stdout",
     "output_type": "stream",
     "text": [
      "88\n"
     ]
    }
   ],
   "source": [
    "print(len(tf.get_collection(tf.GraphKeys.VARIABLES)))"
   ]
  },
  {
   "cell_type": "code",
   "execution_count": 7,
   "metadata": {
    "collapsed": true
   },
   "outputs": [],
   "source": [
    "tf.reset_default_graph()"
   ]
  },
  {
   "cell_type": "code",
   "execution_count": null,
   "metadata": {
    "collapsed": true
   },
   "outputs": [],
   "source": []
  }
 ],
 "metadata": {
  "kernelspec": {
   "display_name": "Python [conda env:tensorflow]",
   "language": "python",
   "name": "conda-env-tensorflow-py"
  },
  "language_info": {
   "codemirror_mode": {
    "name": "ipython",
    "version": 3
   },
   "file_extension": ".py",
   "mimetype": "text/x-python",
   "name": "python",
   "nbconvert_exporter": "python",
   "pygments_lexer": "ipython3",
   "version": "3.5.2"
  }
 },
 "nbformat": 4,
 "nbformat_minor": 2
}
